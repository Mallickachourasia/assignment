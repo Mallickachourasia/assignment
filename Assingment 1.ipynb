{
 "cells": [
  {
   "cell_type": "markdown",
   "id": "4a357870-734b-45f5-8174-bd67cff5c83e",
   "metadata": {},
   "source": [
    "# Assignment 1 "
   ]
  },
  {
   "cell_type": "markdown",
   "id": "70e6111a-97f8-4528-b2a2-cebf69e835fd",
   "metadata": {},
   "source": [
    "Q1. Write all the conventions being followed while declaring a variable."
   ]
  },
  {
   "cell_type": "markdown",
   "id": "bb4865f0-7998-4d79-9f53-f27455195a30",
   "metadata": {},
   "source": [
    "Ans- \n",
    "\n",
    "int-\n",
    "\n",
    "float-\n",
    "\n",
    "str-\n",
    "\n",
    "bool-\n",
    "\n",
    "complex-\n",
    "\n"
   ]
  },
  {
   "cell_type": "code",
   "execution_count": 1,
   "id": "ba1ed038-765b-458e-9309-8d6b9c09ba1e",
   "metadata": {},
   "outputs": [
    {
     "data": {
      "text/plain": [
       "6"
      ]
     },
     "execution_count": 1,
     "metadata": {},
     "output_type": "execute_result"
    }
   ],
   "source": [
    "a=2\n",
    "b=4\n",
    "a+b"
   ]
  },
  {
   "cell_type": "code",
   "execution_count": 2,
   "id": "c3916bfd-90d5-4d22-bf3f-a175e0454c2b",
   "metadata": {},
   "outputs": [
    {
     "data": {
      "text/plain": [
       "int"
      ]
     },
     "execution_count": 2,
     "metadata": {},
     "output_type": "execute_result"
    }
   ],
   "source": [
    "type(a)"
   ]
  },
  {
   "cell_type": "code",
   "execution_count": null,
   "id": "5af454ef-db57-4cc5-a7e6-da0a6d370388",
   "metadata": {},
   "outputs": [],
   "source": []
  },
  {
   "cell_type": "code",
   "execution_count": null,
   "id": "78b6a02c-001f-4b55-a69b-3685c7de3888",
   "metadata": {},
   "outputs": [],
   "source": []
  }
 ],
 "metadata": {
  "kernelspec": {
   "display_name": "Python 3 (ipykernel)",
   "language": "python",
   "name": "python3"
  },
  "language_info": {
   "codemirror_mode": {
    "name": "ipython",
    "version": 3
   },
   "file_extension": ".py",
   "mimetype": "text/x-python",
   "name": "python",
   "nbconvert_exporter": "python",
   "pygments_lexer": "ipython3",
   "version": "3.10.8"
  }
 },
 "nbformat": 4,
 "nbformat_minor": 5
}
